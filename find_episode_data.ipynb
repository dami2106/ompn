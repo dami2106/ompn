{
 "cells": [
  {
   "cell_type": "code",
   "execution_count": null,
   "id": "6dbdfc55",
   "metadata": {},
   "outputs": [],
   "source": [
    "task = \"wsws_static_pixels_big\"\n",
    "look_for_actions = [3, 5, 1, 1, 1, 1, 1, 4, 4, 4, 4, 4, 4, 4, 2, 4, 4, 4, 5, 2, 5, 1, 4, 5, 0]\n",
    "\n",
    "task = \"wsws_static_pixels_big\"\n",
    "look_for_actions = [3, 5, 1, 1, 1, 1, 1, 4, 4, 4, 4, 4, 4, 4, 2, 4, 4, 4, 5, 2, 5, 1, 4, 5, 0]\n",
    "\n",
    "task = \"wsws_static_pixels_big\"\n",
    "look_for_actions = [3, 5, 1, 1, 1, 1, 1, 4, 4, 4, 4, 4, 4, 4, 2, 4, 4, 4, 5, 2, 5, 1, 4, 5, 0]\n",
    "\n",
    "\n",
    "task = \"wsws_static_pixels_big\"\n",
    "look_for_actions = [3, 5, 1, 1, 1, 1, 1, 4, 4, 4, 4, 4, 4, 4, 2, 4, 4, 4, 5, 2, 5, 1, 4, 5, 0]\n",
    "\n",
    "\n",
    "task = \"wsws_static_pixels_big\"\n",
    "look_for_actions = [3, 5, 1, 1, 1, 1, 1, 4, 4, 4, 4, 4, 4, 4, 2, 4, 4, 4, 5, 2, 5, 1, 4, 5, 0]\n",
    "\n",
    "\n",
    "task = \"wsws_static_pixels_big\"\n",
    "look_for_actions = [3, 5, 1, 1, 1, 1, 1, 4, 4, 4, 4, 4, 4, 4, 2, 4, 4, 4, 5, 2, 5, 1, 4, 5, 0]\n"
   ]
  },
  {
   "cell_type": "code",
   "execution_count": 2,
   "id": "b100138d",
   "metadata": {},
   "outputs": [
    {
     "ename": "FileNotFoundError",
     "evalue": "[Errno 2] No such file or directory: 'ompn_paper_runs/wsws_static_pixels_big/episode_data/data_details_wsws_static_pixels_big.json'",
     "output_type": "error",
     "traceback": [
      "\u001b[0;31m---------------------------------------------------------------------------\u001b[0m",
      "\u001b[0;31mFileNotFoundError\u001b[0m                         Traceback (most recent call last)",
      "\u001b[0;32m<ipython-input-2-803ec44e866b>\u001b[0m in \u001b[0;36m<module>\u001b[0;34m\u001b[0m\n\u001b[1;32m      4\u001b[0m \u001b[0;32mimport\u001b[0m \u001b[0mjson\u001b[0m\u001b[0;34m\u001b[0m\u001b[0;34m\u001b[0m\u001b[0m\n\u001b[1;32m      5\u001b[0m \u001b[0;34m\u001b[0m\u001b[0m\n\u001b[0;32m----> 6\u001b[0;31m \u001b[0;32mwith\u001b[0m \u001b[0mopen\u001b[0m\u001b[0;34m(\u001b[0m\u001b[0;34mf'ompn_paper_runs/{task}/episode_data/data_details_{task}.json'\u001b[0m\u001b[0;34m,\u001b[0m \u001b[0;34m'r'\u001b[0m\u001b[0;34m)\u001b[0m \u001b[0;32mas\u001b[0m \u001b[0mfile\u001b[0m\u001b[0;34m:\u001b[0m\u001b[0;34m\u001b[0m\u001b[0;34m\u001b[0m\u001b[0m\n\u001b[0m\u001b[1;32m      7\u001b[0m     \u001b[0mdata\u001b[0m \u001b[0;34m=\u001b[0m \u001b[0mjson\u001b[0m\u001b[0;34m.\u001b[0m\u001b[0mload\u001b[0m\u001b[0;34m(\u001b[0m\u001b[0mfile\u001b[0m\u001b[0;34m)\u001b[0m\u001b[0;34m\u001b[0m\u001b[0;34m\u001b[0m\u001b[0m\n\u001b[1;32m      8\u001b[0m \u001b[0;34m\u001b[0m\u001b[0m\n",
      "\u001b[0;31mFileNotFoundError\u001b[0m: [Errno 2] No such file or directory: 'ompn_paper_runs/wsws_static_pixels_big/episode_data/data_details_wsws_static_pixels_big.json'"
     ]
    }
   ],
   "source": [
    "############\n",
    "# OMPN \n",
    "############\n",
    "import json\n",
    "\n",
    "with open(f'ompn_paper_runs/{task}/episode_data/data_details_{task}.json', 'r') as file:\n",
    "    data = json.load(file)\n",
    "\n",
    "data = data['episode_details']\n",
    "\n",
    "for d in data:\n",
    "    if d['actions'] == look_for_actions[:-1]:\n",
    "        print(\"OMPN\")\n",
    "        print(\"Actions:         \", d['actions'])\n",
    "        # print(\"Predicted Skills:\", d['predicted_skills'])\n",
    "        print(\"Predicted Skills:\", d['decoded_subtask'])\n"
   ]
  },
  {
   "cell_type": "code",
   "execution_count": null,
   "id": "02716d7e",
   "metadata": {},
   "outputs": [
    {
     "name": "stdout",
     "output_type": "stream",
     "text": [
      "COMPILE\n",
      "Actions:          [2, 2, 4, 5, 4, 5, 3, 8, 1, 1, 4, 4, 4, 4, 5, 3, 3, 3, 3, 3, 2, 11]\n",
      "Predicted Skills: [1, 1, 1, 1, 1, 1, 0, 0, 1, 1, 1, 2, 2, 2, 2, 2, 2, 2, 2, 2, 2, 2]\n"
     ]
    }
   ],
   "source": [
    "############\n",
    "# CompILE \n",
    "############\n",
    "\n",
    "import pickle\n",
    "\n",
    "data_list = []\n",
    "with open(f'compile_paper_runs/{task}/episode_data.pkl', 'rb') as file:\n",
    "    while True:\n",
    "        try:\n",
    "            item = pickle.load(file)\n",
    "            data_list.append(item)\n",
    "        except EOFError:\n",
    "            break  # End of file reached\n",
    "\n",
    "\n",
    "data_list = data_list[3]\n",
    "\n",
    "for d in data_list:\n",
    "    if d['actions'] == look_for_actions[:-1]:\n",
    "        print(\"COMPILE\")\n",
    "        print(\"Actions:         \", d['actions'])\n",
    "        print(\"Predicted Skills:\", d['predicted_skills_static'])"
   ]
  }
 ],
 "metadata": {
  "kernelspec": {
   "display_name": "ompn",
   "language": "python",
   "name": "python3"
  },
  "language_info": {
   "codemirror_mode": {
    "name": "ipython",
    "version": 3
   },
   "file_extension": ".py",
   "mimetype": "text/x-python",
   "name": "python",
   "nbconvert_exporter": "python",
   "pygments_lexer": "ipython3",
   "version": "3.6.13"
  }
 },
 "nbformat": 4,
 "nbformat_minor": 5
}
