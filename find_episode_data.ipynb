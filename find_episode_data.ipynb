{
 "cells": [
  {
   "cell_type": "code",
   "execution_count": 15,
   "id": "b100138d",
   "metadata": {},
   "outputs": [
    {
     "name": "stdout",
     "output_type": "stream",
     "text": [
      "{'ep_idx': 86, 'actions': [3, 5, 1, 5, 3, 3, 3, 3, 5, 2, 5], 'boundaries': [0, 2, 10], 'gt_boundaries': [1, 3, 8, 10], 'subtask_order': [0, 0, 1, 1], 'decoded_subtask': [0, 0, 0, 0, 1, 1, 1, 1, 1, 1, 1], 'gt_subtask': [0, 0, 0, 0, 1, 1, 1, 1, 1, 1, 1], 'predicted_tree': '((3) (5 1) (5 3 3 3 3 5 2) (5))', 'gt_tree': '((3) (5 1) (5 3 3 3 3) (5 2) (5))'}\n"
     ]
    }
   ],
   "source": [
    "\n",
    "import json\n",
    "\n",
    "with open('ompn_paper_runs/wsws_random_pixels_big/episode_data/data_details_wsws_random_pixels_big.json', 'r') as file:\n",
    "    data = json.load(file)\n",
    "\n",
    "data = data['episode_details']\n",
    "\n",
    "for d in data:\n",
    "    if d['actions'] == [3, 5, 1, 5, 3, 3, 3, 3, 5, 2, 5]:\n",
    "        print(d)\n",
    "        # print(d['episode_id'])\n",
    "        # print(d['actions'])\n",
    "        # print(d['rewards'])\n",
    "        # print(d['episode_length'])\n",
    "        # print(d['episode_return'])\n",
    "        # print(d['episode_success'])\n",
    "        # print(d['episode_start_time'])\n",
    "        # print(d['episode_end_time'])\n",
    "        # print('---')\n"
   ]
  },
  {
   "cell_type": "code",
   "execution_count": null,
   "id": "60515cc8",
   "metadata": {},
   "outputs": [],
   "source": []
  }
 ],
 "metadata": {
  "kernelspec": {
   "display_name": "ompn",
   "language": "python",
   "name": "python3"
  },
  "language_info": {
   "codemirror_mode": {
    "name": "ipython",
    "version": 3
   },
   "file_extension": ".py",
   "mimetype": "text/x-python",
   "name": "python",
   "nbconvert_exporter": "python",
   "pygments_lexer": "ipython3",
   "version": "3.6.13"
  }
 },
 "nbformat": 4,
 "nbformat_minor": 5
}
