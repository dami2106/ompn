{
 "cells": [
  {
   "cell_type": "code",
   "execution_count": 18,
   "id": "b100138d",
   "metadata": {},
   "outputs": [
    {
     "name": "stdout",
     "output_type": "stream",
     "text": [
      "Actions:          [3, 5, 1, 5, 3, 3, 3, 3, 5, 2, 5]\n",
      "Predicted Skills: [0, 0, 0, 0, 1, 1, 1, 1, 1, 1, 1]\n"
     ]
    }
   ],
   "source": [
    "############\n",
    "# OMPN \n",
    "############\n",
    "import json\n",
    "\n",
    "with open('ompn_paper_runs/wsws_random_pixels_big/episode_data/data_details_wsws_random_pixels_big.json', 'r') as file:\n",
    "    data = json.load(file)\n",
    "\n",
    "data = data['episode_details']\n",
    "\n",
    "for d in data:\n",
    "    if d['actions'] == [3, 5, 1, 5, 3, 3, 3, 3, 5, 2, 5]:\n",
    "        print(\"Actions:         \", d['actions'])\n",
    "        # print(\"Predicted Skills:\", d['predicted_skills'])\n",
    "        print(\"Predicted Skills:\", d['decoded_subtask'])\n"
   ]
  },
  {
   "cell_type": "code",
   "execution_count": null,
   "id": "02716d7e",
   "metadata": {},
   "outputs": [],
   "source": [
    "############\n",
    "# CompILE \n",
    "############\n",
    "\n",
    "import pickle\n",
    "\n",
    "data_list = []\n",
    "with open('compile_paper_runs/mixed_static_pixels_big/episode_data.pkl', 'rb') as file:\n",
    "    while True:\n",
    "        try:\n",
    "            item = pickle.load(file)\n",
    "            data_list.append(item)\n",
    "        except EOFError:\n",
    "            break  # End of file reached\n",
    "\n",
    "\n",
    "data_list = data_list[3]\n",
    "\n",
    "for d in data_list:\n",
    "    if d['actions'] == [3, 5, 1, 5, 3, 3, 3, 3, 5, 2, 5]:\n",
    "        print(\"Actions:         \", d['actions'])\n",
    "        print(\"Predicted Skills:\", d['predicted_skills_static'])"
   ]
  }
 ],
 "metadata": {
  "kernelspec": {
   "display_name": "ompn",
   "language": "python",
   "name": "python3"
  },
  "language_info": {
   "codemirror_mode": {
    "name": "ipython",
    "version": 3
   },
   "file_extension": ".py",
   "mimetype": "text/x-python",
   "name": "python",
   "nbconvert_exporter": "python",
   "pygments_lexer": "ipython3",
   "version": "3.6.13"
  }
 },
 "nbformat": 4,
 "nbformat_minor": 5
}
