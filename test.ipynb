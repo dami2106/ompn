{
 "cells": [
  {
   "cell_type": "code",
   "execution_count": 1,
   "id": "6e75c74a",
   "metadata": {},
   "outputs": [
    {
     "name": "stdout",
     "output_type": "stream",
     "text": [
      "environment ['boundary', 'water', 'stone']\n",
      "workshop ['toolshed', 'workbench', 'factory']\n",
      "primitive ['iron', 'grass', 'wood', 'gold', 'gem']\n",
      "grabbale: ['iron', 'grass', 'wood', 'gold', 'gem', 'plank', 'stick', 'axe', 'rope', 'bed', 'shears', 'cloth', 'bridge', 'ladder']\n",
      "nongrabbale: ['boundary', 'water', 'stone', 'toolshed', 'workbench', 'factory']\n"
     ]
    },
    {
     "name": "stderr",
     "output_type": "stream",
     "text": [
      "/home/dami/anaconda3/envs/ompn/lib/python3.6/site-packages/tqdm/auto.py:22: TqdmWarning: IProgress not found. Please update jupyter and ipywidgets. See https://ipywidgets.readthedocs.io/en/stable/user_install.html\n",
      "  from .autonotebook import tqdm as notebook_tqdm\n"
     ]
    }
   ],
   "source": [
    "import numpy as np \n",
    "import os \n",
    "import glob \n",
    "from enum import Enum\n",
    "import pickle\n",
    "from gym_psketch.env.craft import Actions"
   ]
  },
  {
   "cell_type": "code",
   "execution_count": 2,
   "id": "79e85b42",
   "metadata": {},
   "outputs": [],
   "source": [
    "#Open the data file \n",
    "data_dir = 'dataset/wsws_static_symbolic.pkl'\n",
    "with open(data_dir, 'rb') as f:\n",
    "    data = pickle.load(f)\n"
   ]
  },
  {
   "cell_type": "code",
   "execution_count": 3,
   "id": "21131744",
   "metadata": {},
   "outputs": [
    {
     "data": {
      "text/plain": [
       "dict_keys(['trajs', 'env_id'])"
      ]
     },
     "execution_count": 3,
     "metadata": {},
     "output_type": "execute_result"
    }
   ],
   "source": [
    "data.keys()"
   ]
  },
  {
   "cell_type": "code",
   "execution_count": 4,
   "id": "3d0a1e44",
   "metadata": {},
   "outputs": [
    {
     "data": {
      "text/plain": [
       "100"
      ]
     },
     "execution_count": 4,
     "metadata": {},
     "output_type": "execute_result"
    }
   ],
   "source": [
    "len(data['trajs'])"
   ]
  },
  {
   "cell_type": "code",
   "execution_count": 6,
   "id": "87084bb6",
   "metadata": {},
   "outputs": [],
   "source": [
    "test = data['trajs'][1]"
   ]
  },
  {
   "cell_type": "code",
   "execution_count": 13,
   "id": "af7f61fa",
   "metadata": {},
   "outputs": [
    {
     "name": "stdout",
     "output_type": "stream",
     "text": [
      "[ True  True  True ...  True  True  True]\n"
     ]
    }
   ],
   "source": [
    "print(test['features'][-1] == test['features'][-2])"
   ]
  },
  {
   "cell_type": "code",
   "execution_count": 16,
   "id": "189f64c4",
   "metadata": {},
   "outputs": [
    {
     "name": "stdout",
     "output_type": "stream",
     "text": [
      "14\n"
     ]
    }
   ],
   "source": [
    "print(len(test['action']))"
   ]
  },
  {
   "cell_type": "code",
   "execution_count": 17,
   "id": "c3d7899d",
   "metadata": {},
   "outputs": [
    {
     "name": "stdout",
     "output_type": "stream",
     "text": [
      "14\n"
     ]
    }
   ],
   "source": [
    "print(len(test['features']))"
   ]
  }
 ],
 "metadata": {
  "kernelspec": {
   "display_name": "ompn",
   "language": "python",
   "name": "python3"
  },
  "language_info": {
   "codemirror_mode": {
    "name": "ipython",
    "version": 3
   },
   "file_extension": ".py",
   "mimetype": "text/x-python",
   "name": "python",
   "nbconvert_exporter": "python",
   "pygments_lexer": "ipython3",
   "version": "3.6.13"
  }
 },
 "nbformat": 4,
 "nbformat_minor": 5
}
