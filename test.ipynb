{
 "cells": [
  {
   "cell_type": "code",
   "execution_count": 9,
   "id": "4a081a12",
   "metadata": {},
   "outputs": [
    {
     "name": "stderr",
     "output_type": "stream",
     "text": [
      "/home/dami/anaconda3/envs/ompn/lib/python3.6/site-packages/tqdm/auto.py:22: TqdmWarning: IProgress not found. Please update jupyter and ipywidgets. See https://ipywidgets.readthedocs.io/en/stable/user_install.html\n",
      "  from .autonotebook import tqdm as notebook_tqdm\n"
     ]
    }
   ],
   "source": [
    "import re\n",
    "import numpy as np\n",
    "import matplotlib.pyplot as plt\n",
    "\n",
    "from scipy.spatial.distance import pdist, squareform\n",
    "\n",
    "from metrics import pred_to_gt_match, filter_exclusions\n",
    "\n",
    "import json\n",
    "import re\n",
    "from graphviz import Digraph"
   ]
  },
  {
   "cell_type": "code",
   "execution_count": 1,
   "id": "31e868b0",
   "metadata": {},
   "outputs": [],
   "source": [
    "def parse_tree_string(s):\n",
    "    s = s.strip()\n",
    "    idx = 0\n",
    "    counter = {'n': 0}\n",
    "\n",
    "    def skip_ws():\n",
    "        nonlocal idx\n",
    "        while idx < len(s) and s[idx].isspace():\n",
    "            idx += 1\n",
    "\n",
    "    def parse_node(is_root=False):\n",
    "        nonlocal idx\n",
    "        assert s[idx] == '(', f\"Expected '(', got {s[idx:]}\"\n",
    "        idx += 1\n",
    "        vals = []\n",
    "        kids = []\n",
    "        while True:\n",
    "            skip_ws()\n",
    "            if idx >= len(s):\n",
    "                raise ValueError(\"Unmatched '('\")\n",
    "            if s[idx] == '(':\n",
    "                kids.append(parse_node(is_root=False))\n",
    "            elif s[idx] == ')':\n",
    "                idx += 1\n",
    "                break\n",
    "            else:\n",
    "                # parse an integer\n",
    "                m = re.match(r'[+-]?\\d+', s[idx:])\n",
    "                if not m:\n",
    "                    raise ValueError(f\"Invalid token at {s[idx:]}\")\n",
    "                token = m.group(0)\n",
    "                vals.append(int(token))\n",
    "                idx += len(token)\n",
    "\n",
    "        # choose a label\n",
    "        if kids and not vals:\n",
    "            if is_root:\n",
    "                label = 'root'\n",
    "            else:\n",
    "                counter['n'] += 1\n",
    "                label = f\"N{counter['n']}\"\n",
    "        elif vals:\n",
    "            label = \" \".join(str(v) for v in vals)\n",
    "        else:\n",
    "            # empty node?  Treat like a pure‑children node.\n",
    "            if is_root:\n",
    "                label = 'root'\n",
    "            else:\n",
    "                counter['n'] += 1\n",
    "                label = f\"N{counter['n']}\"\n",
    "\n",
    "        node = {'symbol': label}\n",
    "        if kids:\n",
    "            node['children'] = kids\n",
    "        return node\n",
    "\n",
    "    # kick off the parse, telling the top level it's the root\n",
    "    skip_ws()\n",
    "    if not s or s[0] != '(':\n",
    "        raise ValueError(\"Input must start with '('\")\n",
    "    tree = parse_node(is_root=True)\n",
    "    skip_ws()\n",
    "    if idx != len(s):\n",
    "        raise ValueError(f\"Extra text after tree: {s[idx:]}\")\n",
    "    return tree"
   ]
  },
  {
   "cell_type": "code",
   "execution_count": 6,
   "id": "4f6d0e2f",
   "metadata": {},
   "outputs": [],
   "source": [
    "def save_tree_to_json(tree_dict, filename):\n",
    "    \"\"\"\n",
    "    Save a parsed tree dict to a JSON file.\n",
    "\n",
    "    :param tree_dict: The nested dict returned by parse_tree_string()\n",
    "    :param filename:   Path to write, e.g. \"my_tree.json\"\n",
    "    \"\"\"\n",
    "    with open(filename, 'w', encoding='utf-8') as f:\n",
    "        json.dump(tree_dict, f, indent=2, ensure_ascii=False)\n",
    "    # print(f\"Tree written to {filename}\")\n",
    "\n",
    "\n",
    "def visualize_tree(tree_dict, filename_base, fmt=\"png\", root_label=None, label_mapping=None):\n",
    "    \"\"\"\n",
    "    tree_dict: nested dict with keys\n",
    "      - 'production' → int\n",
    "      - OR 'symbol' → str\n",
    "      and optional 'children': [ … ]\n",
    "    filename_base: e.g. \"seq_tree_0\"  (no extension)\n",
    "    fmt: \"png\" or \"pdf\"\n",
    "    root_label: if given, use this string as the label for the very top node\n",
    "    label_mapping: optional dict mapping grammar labels to readable strings\n",
    "    \"\"\"\n",
    "    dot = Digraph(format=fmt)\n",
    "    dot.attr(rankdir=\"TB\")     # top→bottom\n",
    "    dot.attr(\"node\", shape=\"oval\", fontsize=\"12\")\n",
    "\n",
    "    def recurse(node, parent_id=None, is_root=False):\n",
    "        nid = str(id(node))\n",
    "        # if this is the root of the entire tree and a custom label was supplied, use it:\n",
    "        if is_root and root_label is not None:\n",
    "            label = root_label\n",
    "        else:\n",
    "            if \"production\" in node:\n",
    "                label = f\"R{node['production']}\"\n",
    "            else:\n",
    "                # Use mapping if available, otherwise use original symbol\n",
    "                label = label_mapping.get(node[\"symbol\"], node[\"symbol\"]) if label_mapping else node[\"symbol\"]\n",
    "\n",
    "        dot.node(nid, label)\n",
    "        if parent_id is not None:\n",
    "            dot.edge(parent_id, nid)\n",
    "\n",
    "        for child in node.get(\"children\", []):\n",
    "            recurse(child, nid)\n",
    "\n",
    "    # kick off recursion marking the first call as the root\n",
    "    recurse(tree_dict, parent_id=None, is_root=True)\n",
    "\n",
    "    outpath = dot.render(filename_base, cleanup=True)\n",
    "    # print(f\"Written {outpath}\")\n"
   ]
  },
  {
   "cell_type": "code",
   "execution_count": 7,
   "id": "9c017ec8",
   "metadata": {},
   "outputs": [],
   "source": [
    "tree = \"((5 6) ((1 2) (3 4)))\"\n",
    "pt = parse_tree_string(tree)"
   ]
  },
  {
   "cell_type": "code",
   "execution_count": 10,
   "id": "94fcbf6d",
   "metadata": {},
   "outputs": [],
   "source": [
    "visualize_tree(pt, \"my_tree\", fmt=\"png\", root_label=\"My Custom Root\")"
   ]
  },
  {
   "cell_type": "code",
   "execution_count": 11,
   "id": "1177338a",
   "metadata": {},
   "outputs": [],
   "source": [
    "save_tree_to_json(pt, \"my_tree.json\")"
   ]
  }
 ],
 "metadata": {
  "kernelspec": {
   "display_name": "ompn",
   "language": "python",
   "name": "python3"
  },
  "language_info": {
   "codemirror_mode": {
    "name": "ipython",
    "version": 3
   },
   "file_extension": ".py",
   "mimetype": "text/x-python",
   "name": "python",
   "nbconvert_exporter": "python",
   "pygments_lexer": "ipython3",
   "version": "3.6.13"
  }
 },
 "nbformat": 4,
 "nbformat_minor": 5
}
